{
  "nbformat": 4,
  "nbformat_minor": 0,
  "metadata": {
    "colab": {
      "provenance": [],
      "authorship_tag": "ABX9TyPllfFMIoVLBZEF/RRLMXPb",
      "include_colab_link": true
    },
    "kernelspec": {
      "name": "python3",
      "display_name": "Python 3"
    },
    "language_info": {
      "name": "python"
    }
  },
  "cells": [
    {
      "cell_type": "markdown",
      "metadata": {
        "id": "view-in-github",
        "colab_type": "text"
      },
      "source": [
        "<a href=\"https://colab.research.google.com/github/Sambhaji6529/Python-Programs/blob/main/Programs.ipynb\" target=\"_parent\"><img src=\"https://colab.research.google.com/assets/colab-badge.svg\" alt=\"Open In Colab\"/></a>"
      ]
    },
    {
      "cell_type": "markdown",
      "source": [
        " **1. Write a Program Reverse String** "
      ],
      "metadata": {
        "id": "ntaaqRFbX3Co"
      }
    },
    {
      "cell_type": "code",
      "execution_count": null,
      "metadata": {
        "colab": {
          "base_uri": "https://localhost:8080/"
        },
        "id": "JKwd6Y0kX2OD",
        "outputId": "6033376b-6e9b-40f2-9b6f-fd445dfb457c"
      },
      "outputs": [
        {
          "output_type": "stream",
          "name": "stdout",
          "text": [
            "Enter String:anil\n",
            "lina\n"
          ]
        }
      ],
      "source": [
        "#Using Slice Notation\n",
        "a=input(\"Enter String:\")\n",
        "print(a[::-1])"
      ]
    },
    {
      "cell_type": "markdown",
      "source": [
        "**Palindrome**"
      ],
      "metadata": {
        "id": "1GrF9c8Vo9wv"
      }
    },
    {
      "cell_type": "code",
      "source": [
        "string=input(\"Enter a letter:\")\n",
        "if(string==string[::-1]):\n",
        "  print(\"Letter is a palindrome\")\n",
        "else:\n",
        "  print(\"Letter is not a palindrome\")"
      ],
      "metadata": {
        "colab": {
          "base_uri": "https://localhost:8080/"
        },
        "id": "mrIsunBCu5qB",
        "outputId": "93db9249-4a76-4fad-8ab4-f245bfdd3a1a"
      },
      "execution_count": 5,
      "outputs": [
        {
          "output_type": "stream",
          "name": "stdout",
          "text": [
            "Enter a letter:555\n",
            "Letter is a palindrome\n"
          ]
        }
      ]
    },
    {
      "cell_type": "markdown",
      "source": [
        "**Fibinacci**"
      ],
      "metadata": {
        "id": "wUckaRjs01No"
      }
    },
    {
      "cell_type": "code",
      "source": [
        "n=int(input(\"Enter The Number:\"))\n",
        "x=0\n",
        "y=1\n",
        "z=0\n",
        "while z<=n:\n",
        "  print(z)\n",
        "  x=y\n",
        "  y=z\n",
        "  z=x+y"
      ],
      "metadata": {
        "colab": {
          "base_uri": "https://localhost:8080/"
        },
        "id": "94BTc80306DF",
        "outputId": "d7d79cc5-c55b-4e96-ec0e-0fe6c4600300"
      },
      "execution_count": 8,
      "outputs": [
        {
          "output_type": "stream",
          "name": "stdout",
          "text": [
            "Enter The Number:5\n",
            "0\n",
            "1\n",
            "1\n",
            "2\n",
            "3\n",
            "5\n"
          ]
        }
      ]
    },
    {
      "cell_type": "code",
      "source": [
        "#fibonacci using recursion\n",
        "def recur_fibo(n):\n",
        "  if n <=1:\n",
        "    return n\n",
        "  else:\n",
        "    return(recur_fibo(n-1) + recur_fibo(n-2))\n",
        "nterms = int(input(\"How many times? \"))\n",
        "\n",
        "if nterms <=0:\n",
        "  print(\"Please enter a postive integer\")\n",
        "else:\n",
        "   for i in range(nterms):\n",
        "     print(recur_fibo(i))"
      ],
      "metadata": {
        "colab": {
          "base_uri": "https://localhost:8080/"
        },
        "id": "kg3HHP_c96Nm",
        "outputId": "a11fb03f-9d92-49b0-80a9-4b0b68e21902"
      },
      "execution_count": 22,
      "outputs": [
        {
          "output_type": "stream",
          "name": "stdout",
          "text": [
            "How many times? 10\n",
            "0\n",
            "1\n",
            "1\n",
            "2\n",
            "3\n",
            "5\n",
            "8\n",
            "13\n",
            "21\n",
            "34\n"
          ]
        }
      ]
    },
    {
      "cell_type": "markdown",
      "source": [
        "**Sort A list without using a sort key word**"
      ],
      "metadata": {
        "id": "xVlm14oA4IBQ"
      }
    },
    {
      "cell_type": "code",
      "source": [
        "list1=[1,20,5,6,30,9]\n",
        "n=len(list1)\n",
        "\n",
        "for i in range(n):\n",
        "  for j in range(i+1,n):\n",
        "    if list1[i]>list1[j]:\n",
        "      list1[i],list1[j]=list1[j],list1[i]\n",
        "print(list1)"
      ],
      "metadata": {
        "colab": {
          "base_uri": "https://localhost:8080/"
        },
        "id": "kUbz2i-z4T7C",
        "outputId": "33434e6f-a4c3-45ce-9c8f-3a0169add9a8"
      },
      "execution_count": 11,
      "outputs": [
        {
          "output_type": "stream",
          "name": "stdout",
          "text": [
            "[1, 5, 6, 9, 20, 30]\n"
          ]
        }
      ]
    },
    {
      "cell_type": "markdown",
      "source": [
        "**sort a dictionary by using dict comprehension**"
      ],
      "metadata": {
        "id": "A4AkeW4N5y-K"
      }
    },
    {
      "cell_type": "code",
      "source": [
        "#sort a dictionary\n",
        "dict1={575:\"Apple\",876:\"mango\", 132:\"grapes\", 782:\"banana\"}\n",
        "d=sorted(dict1.keys())\n",
        "dict2={}\n",
        "for i in d:\n",
        "  dict2[i] = dict1[i]\n",
        "print(dict2)"
      ],
      "metadata": {
        "colab": {
          "base_uri": "https://localhost:8080/"
        },
        "id": "rlbw2mw46HfJ",
        "outputId": "096eaec1-b43a-49e4-ade9-65f3a972ae83"
      },
      "execution_count": 15,
      "outputs": [
        {
          "output_type": "stream",
          "name": "stdout",
          "text": [
            "{132: 'grapes', 575: 'Apple', 782: 'banana', 876: 'mango'}\n"
          ]
        }
      ]
    },
    {
      "cell_type": "markdown",
      "source": [
        "**Find the pair with given number in a list**"
      ],
      "metadata": {
        "id": "qJsL-pt68A29"
      }
    },
    {
      "cell_type": "code",
      "source": [
        "list1=[8,7,2,3,5,1]\n",
        "n=len(list1)\n",
        "k=10\n",
        "for i in range(n):\n",
        "  for j in range(i+1, n):\n",
        "    if (list1[i]+list1[j]) == k:\n",
        "      print(list1[i], list1[j])"
      ],
      "metadata": {
        "colab": {
          "base_uri": "https://localhost:8080/"
        },
        "id": "YDFNrSrR8ITD",
        "outputId": "f4629df1-df90-4a09-cf6a-88c626606503"
      },
      "execution_count": 19,
      "outputs": [
        {
          "output_type": "stream",
          "name": "stdout",
          "text": [
            "8 2\n",
            "7 3\n"
          ]
        }
      ]
    }
  ]
}