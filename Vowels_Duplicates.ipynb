{
  "nbformat": 4,
  "nbformat_minor": 0,
  "metadata": {
    "colab": {
      "provenance": [],
      "authorship_tag": "ABX9TyOF+MVrF39Rw1kdqYB+pGSo",
      "include_colab_link": true
    },
    "kernelspec": {
      "name": "python3",
      "display_name": "Python 3"
    },
    "language_info": {
      "name": "python"
    }
  },
  "cells": [
    {
      "cell_type": "markdown",
      "metadata": {
        "id": "view-in-github",
        "colab_type": "text"
      },
      "source": [
        "<a href=\"https://colab.research.google.com/github/Sambhaji6529/Python-Programs/blob/main/Vowels_Duplicates.ipynb\" target=\"_parent\"><img src=\"https://colab.research.google.com/assets/colab-badge.svg\" alt=\"Open In Colab\"/></a>"
      ]
    },
    {
      "cell_type": "markdown",
      "source": [
        "**1. Write a Program to Print different Vowels Present in the given Word?(Using intersection method)**"
      ],
      "metadata": {
        "id": "PrvEmUvkW1wo"
      }
    },
    {
      "cell_type": "code",
      "execution_count": 3,
      "metadata": {
        "colab": {
          "base_uri": "https://localhost:8080/"
        },
        "id": "HtFyvweYWz7G",
        "outputId": "bd719cf3-961c-4e6d-b5ea-1410c5f909bb"
      },
      "outputs": [
        {
          "output_type": "stream",
          "name": "stdout",
          "text": [
            "Enter The StringSambhaji\n",
            "Vowels present in given statement:  ['a', 'i']\n"
          ]
        }
      ],
      "source": [
        "n=input(\"Enter The String\")\n",
        "vowels=['a','e','i','o','u']\n",
        "list=[]\n",
        "for x in n:\n",
        "  if(x in vowels and x not in list):\n",
        "    list.append(x)\n",
        "print(\"Vowels present in given statement: \", list)"
      ]
    },
    {
      "cell_type": "code",
      "source": [
        " #intersection()\n",
        " s=input(\"Enter The String\")\n",
        " Vowels=['a','e','i','o','u']\n",
        " x= set(s)\n",
        " t= x.intersection(vowels)\n",
        " print(\"Vowels presnt in given statement:\",t)"
      ],
      "metadata": {
        "colab": {
          "base_uri": "https://localhost:8080/"
        },
        "id": "-w2qrtSdXPlN",
        "outputId": "cda77e03-fe0c-4a33-8f0e-48007cf1b73d"
      },
      "execution_count": 4,
      "outputs": [
        {
          "output_type": "stream",
          "name": "stdout",
          "text": [
            "Enter The StringAniket\n",
            "Vowels presnt in given statement: {'i', 'e'}\n"
          ]
        }
      ]
    },
    {
      "cell_type": "markdown",
      "source": [
        "**2. Write a Program to eliminate Duplicates Present in the List?**"
      ],
      "metadata": {
        "id": "c7BFROt7Xbuw"
      }
    },
    {
      "cell_type": "code",
      "source": [
        "list=[1,2,3,4,5,4,3,2,1]\n",
        "result=[]\n",
        "for i in list:\n",
        "  if i not in result:\n",
        "    result.append(i)\n",
        "print(result)"
      ],
      "metadata": {
        "colab": {
          "base_uri": "https://localhost:8080/"
        },
        "id": "S_bJsHpHXjEo",
        "outputId": "8d8a0196-0075-42b5-e502-78ae14912be2"
      },
      "execution_count": 5,
      "outputs": [
        {
          "output_type": "stream",
          "name": "stdout",
          "text": [
            "[1, 2, 3, 4, 5]\n"
          ]
        }
      ]
    }
  ]
}