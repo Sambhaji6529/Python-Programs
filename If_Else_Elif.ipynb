{
  "nbformat": 4,
  "nbformat_minor": 0,
  "metadata": {
    "colab": {
      "provenance": [],
      "authorship_tag": "ABX9TyMbKQmiVsd/QHV6Mn051Bjz",
      "include_colab_link": true
    },
    "kernelspec": {
      "name": "python3",
      "display_name": "Python 3"
    },
    "language_info": {
      "name": "python"
    }
  },
  "cells": [
    {
      "cell_type": "markdown",
      "metadata": {
        "id": "view-in-github",
        "colab_type": "text"
      },
      "source": [
        "<a href=\"https://colab.research.google.com/github/Sambhaji6529/Python-Programs/blob/main/If_Else_Elif.ipynb\" target=\"_parent\"><img src=\"https://colab.research.google.com/assets/colab-badge.svg\" alt=\"Open In Colab\"/></a>"
      ]
    },
    {
      "cell_type": "code",
      "execution_count": 3,
      "metadata": {
        "colab": {
          "base_uri": "https://localhost:8080/"
        },
        "id": "WEkyUZ9kMelu",
        "outputId": "5ec48465-2f2a-4940-e44b-a6af9335ccfb"
      },
      "outputs": [
        {
          "output_type": "stream",
          "name": "stdout",
          "text": [
            "b is greater than a\n"
          ]
        }
      ],
      "source": [
        "a=33\n",
        "b=200\n",
        "if b>a:\n",
        "  print(\"b is greater than a\")"
      ]
    },
    {
      "cell_type": "markdown",
      "source": [
        "Expl Code:- In this example we use two variables, a and b, which are used as part of the if statement to test whether b is greater than a. As a is 33, and b is 200, we know that 200 is greater than 33, and so we print to screen that \"b is greater than a\"."
      ],
      "metadata": {
        "id": "z_9WIDJXRv8Y"
      }
    },
    {
      "cell_type": "code",
      "source": [
        "name=input(\"Enter The String:\")\n",
        "if name==\"ram\":\n",
        "   print(\"Hello Good Morning\")\n",
        "   print(\"How are you!\")"
      ],
      "metadata": {
        "colab": {
          "base_uri": "https://localhost:8080/"
        },
        "id": "so3mNd75NG5v",
        "outputId": "164d569f-47cd-48f9-e533-01239f919948"
      },
      "execution_count": 10,
      "outputs": [
        {
          "output_type": "stream",
          "name": "stdout",
          "text": [
            "Enter The String:ram\n",
            "Hello Good Morning\n",
            "How are you!\n"
          ]
        }
      ]
    },
    {
      "cell_type": "code",
      "source": [
        "#elif\n",
        "a=35\n",
        "b=35\n",
        "if b>a:\n",
        "  print(\"b is greater than a\")\n",
        "elif a==b:\n",
        "  print(\"a and b are  equal \")"
      ],
      "metadata": {
        "colab": {
          "base_uri": "https://localhost:8080/"
        },
        "id": "3FZ-69wtRE16",
        "outputId": "7bd5e73b-288b-401f-9eee-f765209b0c6b"
      },
      "execution_count": 12,
      "outputs": [
        {
          "output_type": "stream",
          "name": "stdout",
          "text": [
            "a and b are  equal \n"
          ]
        }
      ]
    },
    {
      "cell_type": "markdown",
      "source": [
        "Expl code:- In this example a is equal to b, so the first condition is not true, but the elif condition is true, so we print to screen that \"a and b are equal\"."
      ],
      "metadata": {
        "id": "mCYveD28RnhA"
      }
    },
    {
      "cell_type": "markdown",
      "source": [
        "# Else"
      ],
      "metadata": {
        "id": "LL414nGPa61p"
      }
    },
    {
      "cell_type": "code",
      "source": [
        "a= 200\n",
        "b= 33\n",
        "if b>a:\n",
        "  print(\"b is greater than a\")\n",
        "elif a==b:\n",
        "  print(\"a and b are equal\")\n",
        "else:\n",
        "  print(\"a is greater than b\")"
      ],
      "metadata": {
        "colab": {
          "base_uri": "https://localhost:8080/"
        },
        "id": "GQXu48-YR4Aq",
        "outputId": "b34cb839-6a4c-481e-bce8-ac154a4cc42a"
      },
      "execution_count": 13,
      "outputs": [
        {
          "output_type": "stream",
          "name": "stdout",
          "text": [
            "a is greater than b\n"
          ]
        }
      ]
    },
    {
      "cell_type": "markdown",
      "source": [
        "Expl Code:- a is greater than b, so the first condition is not true, also the elif condition is not true, so we go to the else condition and print to screen that \"a is greater than b\"."
      ],
      "metadata": {
        "id": "-TyYnMhAbE3P"
      }
    },
    {
      "cell_type": "code",
      "source": [
        "#only use else\n",
        "a=150\n",
        "b=23\n",
        "if b>a:\n",
        "  print(\"b is greater than a\")\n",
        "else:\n",
        "  print(\"b is not greater than a\")"
      ],
      "metadata": {
        "colab": {
          "base_uri": "https://localhost:8080/"
        },
        "id": "iY_DDVtBbMre",
        "outputId": "5ef78ae8-90aa-4d54-9d31-290cb277f09c"
      },
      "execution_count": 14,
      "outputs": [
        {
          "output_type": "stream",
          "name": "stdout",
          "text": [
            "b is not greater than a\n"
          ]
        }
      ]
    },
    {
      "cell_type": "markdown",
      "source": [
        "# Short Hand If\n",
        "If you have only one statement to execute, you can put it on the same line as the if statement."
      ],
      "metadata": {
        "id": "KdFROnXAcTjA"
      }
    },
    {
      "cell_type": "code",
      "source": [
        "#Short Hand If\n",
        "if a>b: print(\"a is greater than b\")"
      ],
      "metadata": {
        "colab": {
          "base_uri": "https://localhost:8080/"
        },
        "id": "zA-mARKgboFs",
        "outputId": "771bfd32-3b8d-4227-af95-dd6fbe264faa"
      },
      "execution_count": 15,
      "outputs": [
        {
          "output_type": "stream",
          "name": "stdout",
          "text": [
            "a is greater than b\n"
          ]
        }
      ]
    },
    {
      "cell_type": "markdown",
      "source": [
        "# Short Hand If ... Else\n",
        "If you have only one statement to execute, one for if, and one for else, you can put it all on the same line:"
      ],
      "metadata": {
        "id": "h2_mSP4JcYXN"
      }
    },
    {
      "cell_type": "code",
      "source": [
        "a=2\n",
        "b=33\n",
        "print(\"a\") if a>b else print(\"b\")"
      ],
      "metadata": {
        "colab": {
          "base_uri": "https://localhost:8080/"
        },
        "id": "fCTI_Mf1b86J",
        "outputId": "240446e0-68ed-438d-efe1-20c796982495"
      },
      "execution_count": 17,
      "outputs": [
        {
          "output_type": "stream",
          "name": "stdout",
          "text": [
            "b\n"
          ]
        }
      ]
    },
    {
      "cell_type": "markdown",
      "source": [
        "# And\n",
        "\n",
        "The and keyword is a logical operator, and is used to combine conditional statements"
      ],
      "metadata": {
        "id": "_2VOF_rhc-4f"
      }
    },
    {
      "cell_type": "code",
      "source": [
        "a=200\n",
        "b=33\n",
        "c=499\n",
        "if a>b and c>a:\n",
        "  print(\"Both conditions are true\")"
      ],
      "metadata": {
        "colab": {
          "base_uri": "https://localhost:8080/"
        },
        "id": "5KCvHGf-dW-2",
        "outputId": "238643ba-3512-4846-ad84-d11d11caecd6"
      },
      "execution_count": 21,
      "outputs": [
        {
          "output_type": "stream",
          "name": "stdout",
          "text": [
            "Both conditions are true\n"
          ]
        }
      ]
    },
    {
      "cell_type": "markdown",
      "source": [
        "# Or\n",
        "The or keyword is a logical operator, and is used to combine conditional statements:"
      ],
      "metadata": {
        "id": "v-pROzKRehQO"
      }
    },
    {
      "cell_type": "code",
      "source": [
        "a=200\n",
        "b=33\n",
        "c=500\n",
        "if a>b or a>c:\n",
        "  print(\"at least one of the conditions is true\")"
      ],
      "metadata": {
        "colab": {
          "base_uri": "https://localhost:8080/"
        },
        "id": "50cnD0RJeAb3",
        "outputId": "62f0a84b-06eb-48b6-9ac5-85c048d5f39f"
      },
      "execution_count": 22,
      "outputs": [
        {
          "output_type": "stream",
          "name": "stdout",
          "text": [
            "at least one of the conditions is true\n"
          ]
        }
      ]
    },
    {
      "cell_type": "markdown",
      "source": [
        "# Nested If\n",
        "You can have if statements inside if statements, this is called nested if statements."
      ],
      "metadata": {
        "id": "rj8cnISW43oo"
      }
    },
    {
      "cell_type": "code",
      "source": [
        "x=41\n",
        "if x>10:\n",
        "  print(\"Above ten,\")\n",
        "  if x>20:\n",
        "    print(\"and also above20!\")\n",
        "  else:\n",
        "    print(\"but not above 20.\")"
      ],
      "metadata": {
        "colab": {
          "base_uri": "https://localhost:8080/"
        },
        "id": "DSNpYtR945r2",
        "outputId": "e1508bfb-17f1-47cf-f128-8ca6ff77d235"
      },
      "execution_count": 1,
      "outputs": [
        {
          "output_type": "stream",
          "name": "stdout",
          "text": [
            "Above ten,\n",
            "and also above20!\n"
          ]
        }
      ]
    },
    {
      "cell_type": "markdown",
      "source": [
        "# Transfer Statements\n",
        "# Break:\n",
        "We can use break statement inside loops to break loop execution based on some condition."
      ],
      "metadata": {
        "id": "vOwmgdLCPV2Y"
      }
    },
    {
      "cell_type": "code",
      "source": [
        "for i in range(10):\n",
        " if i==7:\n",
        "   print(\"processing is enough...plz break\")\n",
        "   break\n",
        " print(i)"
      ],
      "metadata": {
        "colab": {
          "base_uri": "https://localhost:8080/"
        },
        "id": "pJrLl3vkPX-H",
        "outputId": "ca61fef8-f7bb-4658-eec2-72ae2f4350c5"
      },
      "execution_count": 3,
      "outputs": [
        {
          "output_type": "stream",
          "name": "stdout",
          "text": [
            "0\n",
            "1\n",
            "2\n",
            "3\n",
            "4\n",
            "5\n",
            "6\n",
            "processing is enough...plz break\n"
          ]
        }
      ]
    },
    {
      "cell_type": "code",
      "source": [
        "cart=[10,20,600,60,70]\n",
        "for item in cart:\n",
        "  if item>500:\n",
        "    print(\"TO place this order insurence must be required\")\n",
        "    break\n",
        "  print(item)"
      ],
      "metadata": {
        "colab": {
          "base_uri": "https://localhost:8080/"
        },
        "id": "RJbWbAm0QBRR",
        "outputId": "e8178d27-148d-4231-a7a2-ddcca09fb069"
      },
      "execution_count": 11,
      "outputs": [
        {
          "output_type": "stream",
          "name": "stdout",
          "text": [
            "10\n",
            "20\n",
            "TO place this order insurence must be required\n"
          ]
        }
      ]
    },
    {
      "cell_type": "markdown",
      "source": [
        "# Continue\n",
        "We can use continue statement to skip current iteration and continue next iteration."
      ],
      "metadata": {
        "id": "erNaZhUhSzyU"
      }
    },
    {
      "cell_type": "code",
      "source": [
        "# Eg 1: To print odd numbers in the range 0 to 9\n",
        "for i in range(10):\n",
        "  if i%2==0:\n",
        "    continue\n",
        "  print(i)"
      ],
      "metadata": {
        "colab": {
          "base_uri": "https://localhost:8080/"
        },
        "id": "ikIw05v0S9ju",
        "outputId": "e2c59297-4ca1-436c-d9d4-9f7c69397656"
      },
      "execution_count": 12,
      "outputs": [
        {
          "output_type": "stream",
          "name": "stdout",
          "text": [
            "1\n",
            "3\n",
            "5\n",
            "7\n",
            "9\n"
          ]
        }
      ]
    },
    {
      "cell_type": "code",
      "source": [
        "cart=[10,20,500,700,50,60]\n",
        "for item in cart:\n",
        "  if item>=500:\n",
        "    print(\"We cannot process this item:\",item)\n",
        "    continue\n",
        "  print(item)"
      ],
      "metadata": {
        "colab": {
          "base_uri": "https://localhost:8080/"
        },
        "id": "j916Z17KT_7K",
        "outputId": "de78dd1c-1da2-4ac1-c014-a8c41f625c0b"
      },
      "execution_count": 20,
      "outputs": [
        {
          "output_type": "stream",
          "name": "stdout",
          "text": [
            "10\n",
            "20\n",
            "We cannot process this item: 500\n",
            "We cannot process this item: 700\n",
            "50\n",
            "60\n"
          ]
        }
      ]
    },
    {
      "cell_type": "code",
      "source": [
        "numbers=[10,20,0,5,0,30]\n",
        "for n in numbers:\n",
        "  if n==0:\n",
        "    print(\"hey how we can divide with zero..just skipping\")\n",
        "    continue\n",
        "  print(\"100/{} = {}\".format(n,100/n))"
      ],
      "metadata": {
        "colab": {
          "base_uri": "https://localhost:8080/"
        },
        "id": "e-GiM1MaUhda",
        "outputId": "3718557c-090e-4aee-86cf-ffd157ee97ed"
      },
      "execution_count": 25,
      "outputs": [
        {
          "output_type": "stream",
          "name": "stdout",
          "text": [
            "100/10 = 10.0\n",
            "100/20 = 5.0\n",
            "hey how we can divide with zero..just skipping\n",
            "100/5 = 20.0\n",
            "hey how we can divide with zero..just skipping\n",
            "100/30 = 3.3333333333333335\n"
          ]
        }
      ]
    },
    {
      "cell_type": "markdown",
      "source": [
        "# Loops With else block\n",
        "Inside loop execution, if break statement not executed, then only else part will be executed.\n",
        "\n",
        "\"else\" means loop without break"
      ],
      "metadata": {
        "id": "ZmpmL4zxW5Fe"
      }
    },
    {
      "cell_type": "code",
      "source": [
        "cart=[10,20,30,40,50]\n",
        "for item in cart:\n",
        "  if item>=500:\n",
        "    print(\"We cannot process this order\")\n",
        "    break\n",
        "  print(item)\n",
        "else:\n",
        "  print(\"Congrats .....all items processed sucessfully\")"
      ],
      "metadata": {
        "colab": {
          "base_uri": "https://localhost:8080/"
        },
        "id": "zsZGwOWCW63l",
        "outputId": "34cd5094-4b51-4dba-d9d9-6f10ad4cd066"
      },
      "execution_count": 29,
      "outputs": [
        {
          "output_type": "stream",
          "name": "stdout",
          "text": [
            "10\n",
            "20\n",
            "30\n",
            "40\n",
            "50\n",
            "Congrats .....all items processed sucessfully\n"
          ]
        }
      ]
    },
    {
      "cell_type": "markdown",
      "source": [
        "# pass statement:"
      ],
      "metadata": {
        "id": "J-KAxnT0XvoH"
      }
    },
    {
      "cell_type": "markdown",
      "source": [
        "In our programming syntactically if block is required which won't do anything then we can define that empty block with pass keyword."
      ],
      "metadata": {
        "id": "rg1nV0ohX2GV"
      }
    },
    {
      "cell_type": "code",
      "source": [
        "for i in range(100):\n",
        "  if i%9==0: # start the 9 number\n",
        "    print(i)\n",
        "  else:\n",
        "    pass"
      ],
      "metadata": {
        "colab": {
          "base_uri": "https://localhost:8080/"
        },
        "id": "Wik_McM8XxG3",
        "outputId": "dcab0409-b94f-47ba-a200-43e67fe7b3bb"
      },
      "execution_count": 35,
      "outputs": [
        {
          "output_type": "stream",
          "name": "stdout",
          "text": [
            "0\n",
            "9\n",
            "18\n",
            "27\n",
            "36\n",
            "45\n",
            "54\n",
            "63\n",
            "72\n",
            "81\n",
            "90\n",
            "99\n"
          ]
        }
      ]
    }
  ]
}