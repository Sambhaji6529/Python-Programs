{
  "nbformat": 4,
  "nbformat_minor": 0,
  "metadata": {
    "colab": {
      "provenance": [],
      "authorship_tag": "ABX9TyPeUYx9czNFy5kavzhh03A7",
      "include_colab_link": true
    },
    "kernelspec": {
      "name": "python3",
      "display_name": "Python 3"
    },
    "language_info": {
      "name": "python"
    }
  },
  "cells": [
    {
      "cell_type": "markdown",
      "metadata": {
        "id": "view-in-github",
        "colab_type": "text"
      },
      "source": [
        "<a href=\"https://colab.research.google.com/github/Sambhaji6529/Python-Programs/blob/main/Area_of_Cricle.ipynb\" target=\"_parent\"><img src=\"https://colab.research.google.com/assets/colab-badge.svg\" alt=\"Open In Colab\"/></a>"
      ]
    },
    {
      "cell_type": "markdown",
      "source": [
        "**Write a Python Program to find Area of Circle**"
      ],
      "metadata": {
        "id": "GE5JOMMRtafc"
      }
    },
    {
      "cell_type": "code",
      "execution_count": 1,
      "metadata": {
        "colab": {
          "base_uri": "https://localhost:8080/"
        },
        "id": "7TDEVBgXHhiG",
        "outputId": "1f4e0c9a-c099-4439-9c33-dd68e8701cff"
      },
      "outputs": [
        {
          "output_type": "stream",
          "name": "stdout",
          "text": [
            "Enter radius of cricle:5\n",
            "Area of cricle is 78.55\n"
          ]
        }
      ],
      "source": [
        "pi=3.142\n",
        "num=float(input(\"Enter radius of cricle:\"))\n",
        "Area=pi*num*num\n",
        "print(\"Area of cricle is\",Area)"
      ]
    }
  ]
}