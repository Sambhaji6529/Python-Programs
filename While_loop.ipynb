{
  "nbformat": 4,
  "nbformat_minor": 0,
  "metadata": {
    "colab": {
      "provenance": [],
      "authorship_tag": "ABX9TyOzpjHB79Q0i79pSSgMowp4",
      "include_colab_link": true
    },
    "kernelspec": {
      "name": "python3",
      "display_name": "Python 3"
    },
    "language_info": {
      "name": "python"
    }
  },
  "cells": [
    {
      "cell_type": "markdown",
      "metadata": {
        "id": "view-in-github",
        "colab_type": "text"
      },
      "source": [
        "<a href=\"https://colab.research.google.com/github/Sambhaji6529/Python-Programs/blob/main/While_loop.ipynb\" target=\"_parent\"><img src=\"https://colab.research.google.com/assets/colab-badge.svg\" alt=\"Open In Colab\"/></a>"
      ]
    },
    {
      "cell_type": "code",
      "execution_count": 6,
      "metadata": {
        "colab": {
          "base_uri": "https://localhost:8080/"
        },
        "id": "6d1gXMkNK9OK",
        "outputId": "8be00971-f553-4a77-ac4d-068cf368866f"
      },
      "outputs": [
        {
          "output_type": "stream",
          "name": "stdout",
          "text": [
            "0\n",
            "1\n",
            "2\n"
          ]
        }
      ],
      "source": [
        "i=0\n",
        "while(i<3):\n",
        "  print(i)\n",
        "  i=i+1\n"
      ]
    },
    {
      "cell_type": "code",
      "source": [
        "i=0\n",
        "while(i<=3): # equal to is true \n",
        "  print(i)\n",
        "  i=i+1\n",
        "print(\"Done with the loop\")"
      ],
      "metadata": {
        "colab": {
          "base_uri": "https://localhost:8080/"
        },
        "id": "9nwgVPXJNLbq",
        "outputId": "51f7308e-b64b-4108-ff47-bf3a95e3f51a"
      },
      "execution_count": 7,
      "outputs": [
        {
          "output_type": "stream",
          "name": "stdout",
          "text": [
            "0\n",
            "1\n",
            "2\n",
            "3\n",
            "Done with the loop\n"
          ]
        }
      ]
    },
    {
      "cell_type": "code",
      "source": [
        "i=0\n",
        "#i=int(input(\"Enter the number:\"))\n",
        "while(i<=25):\n",
        "  i=int(input(\"Enter the number:\"))\n",
        "print(\"Done with the loop\")"
      ],
      "metadata": {
        "colab": {
          "base_uri": "https://localhost:8080/"
        },
        "id": "ERfikiMKNp_r",
        "outputId": "0ef17613-8e27-4bec-b2af-eb74324ddc57"
      },
      "execution_count": 13,
      "outputs": [
        {
          "output_type": "stream",
          "name": "stdout",
          "text": [
            "Enter the number:25\n",
            "Enter the number:28\n",
            "Done with the loop\n"
          ]
        }
      ]
    },
    {
      "cell_type": "markdown",
      "source": [
        " The count variable is set to 5 which Decrements after each iteration."
      ],
      "metadata": {
        "id": "Fs8nVbQhQhn9"
      }
    },
    {
      "cell_type": "code",
      "source": [
        "#Decrements loop\n",
        "count=5\n",
        "while(count>0):\n",
        "   print(count)\n",
        "   count=count-1"
      ],
      "metadata": {
        "colab": {
          "base_uri": "https://localhost:8080/"
        },
        "id": "RMu0vlw8Pu1Q",
        "outputId": "93166d21-4d7c-4d0a-a069-734f0f385060"
      },
      "execution_count": 15,
      "outputs": [
        {
          "output_type": "stream",
          "name": "stdout",
          "text": [
            "5\n",
            "4\n",
            "3\n",
            "2\n",
            "1\n"
          ]
        }
      ]
    },
    {
      "cell_type": "markdown",
      "source": [
        "Else With while loop"
      ],
      "metadata": {
        "id": "cyCVKcr4Ux9B"
      }
    },
    {
      "cell_type": "code",
      "source": [
        "x=5\n",
        "while(x>0):\n",
        "  print(x)\n",
        "  x=x-1\n",
        "else:\n",
        "  print('counter is 0')"
      ],
      "metadata": {
        "colab": {
          "base_uri": "https://localhost:8080/"
        },
        "id": "ivb0TmHuU4FK",
        "outputId": "abf17e6a-a36d-43e1-cdbb-af2b013cc2b3"
      },
      "execution_count": 18,
      "outputs": [
        {
          "output_type": "stream",
          "name": "stdout",
          "text": [
            "5\n",
            "4\n",
            "3\n",
            "2\n",
            "1\n",
            "counter is 0\n"
          ]
        }
      ]
    }
  ]
}