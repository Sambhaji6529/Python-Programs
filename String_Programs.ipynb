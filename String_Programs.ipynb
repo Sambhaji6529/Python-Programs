{
  "nbformat": 4,
  "nbformat_minor": 0,
  "metadata": {
    "colab": {
      "provenance": [],
      "authorship_tag": "ABX9TyM9ugDi2ok7sxpmFTm+h+Dt",
      "include_colab_link": true
    },
    "kernelspec": {
      "name": "python3",
      "display_name": "Python 3"
    },
    "language_info": {
      "name": "python"
    }
  },
  "cells": [
    {
      "cell_type": "markdown",
      "metadata": {
        "id": "view-in-github",
        "colab_type": "text"
      },
      "source": [
        "<a href=\"https://colab.research.google.com/github/Sambhaji6529/Python-Programs/blob/main/String_Programs.ipynb\" target=\"_parent\"><img src=\"https://colab.research.google.com/assets/colab-badge.svg\" alt=\"Open In Colab\"/></a>"
      ]
    },
    {
      "cell_type": "markdown",
      "source": [
        "1.Write a Python program to calculate the length of a string."
      ],
      "metadata": {
        "id": "Y9PUlSUK505t"
      }
    },
    {
      "cell_type": "code",
      "execution_count": null,
      "metadata": {
        "colab": {
          "base_uri": "https://localhost:8080/"
        },
        "id": "7oR9ju2u5zCw",
        "outputId": "40d64f6c-72cf-4777-ab9e-c8b0bc2c95f0"
      },
      "outputs": [
        {
          "output_type": "execute_result",
          "data": {
            "text/plain": [
              "6"
            ]
          },
          "metadata": {},
          "execution_count": 14
        }
      ],
      "source": [
        "s='Python'\n",
        "len(s)"
      ]
    },
    {
      "cell_type": "code",
      "source": [
        "#Using Function \n",
        "def string_length(str1):\n",
        "  count=0\n",
        "  for i in str1:\n",
        "    count+=1\n",
        "  return count\n",
        "print(string_length(\"Python Programs\"))"
      ],
      "metadata": {
        "colab": {
          "base_uri": "https://localhost:8080/"
        },
        "id": "HD52z1Xk688r",
        "outputId": "bdc6dfba-cf68-4017-9f41-73e47b200a43"
      },
      "execution_count": null,
      "outputs": [
        {
          "output_type": "stream",
          "name": "stdout",
          "text": [
            "15\n"
          ]
        }
      ]
    },
    {
      "cell_type": "markdown",
      "source": [
        "2.Write a Python program to count the number of characters (character frequency) in a string. \n",
        "\n",
        "Sample String : google.com'\n",
        "\n",
        "Expected Result : {'g': 2, 'o': 3, 'l': 1, 'e': 1, '.': 1, 'c': 1, 'm': 1} "
      ],
      "metadata": {
        "id": "-hpYnlfH7-Gz"
      }
    },
    {
      "cell_type": "code",
      "source": [
        "s=\"google.com\"\n",
        "d={}\n",
        "for x in s:\n",
        "  if x in d.keys():\n",
        "    d[x]=d[x]+1\n",
        "  else:\n",
        "    d[x]=1\n",
        "print(d)"
      ],
      "metadata": {
        "colab": {
          "base_uri": "https://localhost:8080/"
        },
        "id": "Wsygx1zl8Lhf",
        "outputId": "2c05e2f8-f5b8-43bc-8ece-4708752bfacc"
      },
      "execution_count": null,
      "outputs": [
        {
          "output_type": "stream",
          "name": "stdout",
          "text": [
            "{'g': 2, 'o': 3, 'l': 1, 'e': 1, '.': 1, 'c': 1, 'm': 1}\n"
          ]
        }
      ]
    },
    {
      "cell_type": "code",
      "source": [
        "#using function\n",
        "def char_frequency(str1):\n",
        "    dict = {}\n",
        "    for n in str1:\n",
        "        keys = dict.keys()\n",
        "        if n in keys:\n",
        "            dict[n] += 1\n",
        "        else:\n",
        "            dict[n] = 1\n",
        "    return dict\n",
        "print(char_frequency('google.com'))\n"
      ],
      "metadata": {
        "colab": {
          "base_uri": "https://localhost:8080/"
        },
        "id": "R4VMgPxm-Tpk",
        "outputId": "e0b38e27-e7bf-48d7-c28f-31372071e8f5"
      },
      "execution_count": null,
      "outputs": [
        {
          "output_type": "stream",
          "name": "stdout",
          "text": [
            "{'g': 2, 'o': 3, 'l': 1, 'e': 1, '.': 1, 'c': 1, 'm': 1}\n"
          ]
        }
      ]
    },
    {
      "cell_type": "markdown",
      "source": [
        "3.Write a Python program to get a string made of the first 2 and last 2 characters of a given string. If the string length is less than 2, return the empty string instead. \n",
        "\n",
        "Sample String : 'w3resource'\n",
        "\n",
        "Expected Result : 'w3ce'\n",
        "\n",
        "Sample String : 'w3'\n",
        "\n",
        "Expected Result : 'w3w3'\n",
        "\n",
        "Sample String : ' w'\n",
        "\n",
        "Expected Result : Empty String"
      ],
      "metadata": {
        "id": "tzs1I5Al-iK9"
      }
    },
    {
      "cell_type": "code",
      "source": [
        "def string_both_ends(str):\n",
        "  if len(str) < 2:\n",
        "    return''\n",
        "\n",
        "  return str[0:2] + str[-2:]\n",
        "\n",
        "print(string_both_ends('w3resource'))\n",
        "print(string_both_ends('w3'))\n",
        "print(string_both_ends('w'))\n"
      ],
      "metadata": {
        "id": "tuG3D5qf-y5Y",
        "colab": {
          "base_uri": "https://localhost:8080/"
        },
        "outputId": "70188be3-7d73-4e7c-e448-1e37968f19f3"
      },
      "execution_count": null,
      "outputs": [
        {
          "output_type": "stream",
          "name": "stdout",
          "text": [
            "w3ce\n",
            "w3w3\n",
            "\n"
          ]
        }
      ]
    },
    {
      "cell_type": "markdown",
      "source": [
        "4.Write a Python program to get a string from a given string where all occurrences of its first char have been changed to '$', except the first char itself.\n",
        "\n",
        "Sample String : 'restart'\n",
        "\n",
        "Expected Result : 'resta$t'"
      ],
      "metadata": {
        "id": "Icd-LZHPZiVV"
      }
    },
    {
      "cell_type": "code",
      "source": [
        "def change_char(str1):\n",
        "  char=str1[0]\n",
        "  str1=str1.replace(char,'$')\n",
        "  str1=char + str1[1:]\n",
        "  return str1\n",
        "print(change_char('restart'))"
      ],
      "metadata": {
        "colab": {
          "base_uri": "https://localhost:8080/"
        },
        "id": "OeX3rsBbZtGk",
        "outputId": "b437426c-58a8-4eaa-8a1b-6fde0ee90f23"
      },
      "execution_count": null,
      "outputs": [
        {
          "output_type": "stream",
          "name": "stdout",
          "text": [
            "resta$t\n"
          ]
        }
      ]
    },
    {
      "cell_type": "code",
      "source": [
        "#second way\n",
        "s=(input(\"Enter The String: \"))\n",
        "char=s[0]\n",
        "s=s.replace(char,\"$\")\n",
        "s=char+ s[1:]\n",
        "print(s)"
      ],
      "metadata": {
        "colab": {
          "base_uri": "https://localhost:8080/"
        },
        "id": "gtEQtgLncLUv",
        "outputId": "619dab77-422f-4fa0-f4b0-a440943ffa5e"
      },
      "execution_count": null,
      "outputs": [
        {
          "output_type": "stream",
          "name": "stdout",
          "text": [
            "Enter The String: restart\n",
            "resta$t\n"
          ]
        }
      ]
    },
    {
      "cell_type": "markdown",
      "source": [
        "5.Write a Python program to get a single string from two given strings, separated by a space and swap the first two characters of each string. \n",
        "\n",
        "Sample String : 'abc', 'xyz'\n",
        "\n",
        "Expected Result : 'xyc abz'"
      ],
      "metadata": {
        "id": "_gmLXgaRh4Nr"
      }
    },
    {
      "cell_type": "code",
      "source": [
        "def chars_mix_up(a,b):\n",
        "  new_a = b[:2] + a[2:]\n",
        "  new_b = a[:2] + b[2:]\n",
        "  return new_a + ' '+new_b\n",
        "print(chars_mix_up('abc','xyz'))"
      ],
      "metadata": {
        "colab": {
          "base_uri": "https://localhost:8080/"
        },
        "id": "YNvUl_gliBhf",
        "outputId": "461e9699-e2ca-4335-97be-20eb6a5c8934"
      },
      "execution_count": null,
      "outputs": [
        {
          "output_type": "stream",
          "name": "stdout",
          "text": [
            "xyc abz\n"
          ]
        }
      ]
    },
    {
      "cell_type": "code",
      "source": [
        "s1 = input()\n",
        "s2 = input()\n",
        "new_s1 = s2[:2] + s1[2:]\n",
        "new_s2 = s1[:2] + s2[2:]\n",
        "print(new_s1 + ' ' + new_s2)"
      ],
      "metadata": {
        "colab": {
          "base_uri": "https://localhost:8080/"
        },
        "id": "Pk0GheEOqBXw",
        "outputId": "6845639b-0bc3-4c22-dfdc-ef54f0b07156"
      },
      "execution_count": null,
      "outputs": [
        {
          "output_type": "stream",
          "name": "stdout",
          "text": [
            "abc\n",
            "xyz\n",
            "xyc abz\n"
          ]
        }
      ]
    },
    {
      "cell_type": "markdown",
      "source": [
        "6.Write a Python program to add 'ing' at the end of a given string (length should be at least 3). If the given string already ends with 'ing', add 'ly' instead. If the string length of the given string is less than 3, leave it unchanged.\n",
        "\n",
        "Sample String : 'abc'\n",
        "\n",
        "Expected Result : 'abcing'\n",
        "\n",
        "Sample String : 'string'\n",
        "\n",
        "Expected Result : 'stringly'"
      ],
      "metadata": {
        "id": "DK6rfFib74p6"
      }
    },
    {
      "cell_type": "code",
      "source": [
        "def add_string(str1):\n",
        "  length = len(str1)\n",
        "\n",
        "  if length >2:\n",
        "    if str1[-3:] == 'ing':\n",
        "      str1 +='ly'\n",
        "    else:\n",
        "      str1 +='ing'\n",
        "  return str1\n",
        "\n",
        "print(add_string('ab'))\n",
        "print(add_string('abc'))\n",
        "print(add_string('string'))"
      ],
      "metadata": {
        "colab": {
          "base_uri": "https://localhost:8080/"
        },
        "id": "29f30J-i8JzG",
        "outputId": "0d05d0b0-aede-4fa1-ff0c-4f38b1ff8428"
      },
      "execution_count": null,
      "outputs": [
        {
          "output_type": "stream",
          "name": "stdout",
          "text": [
            "ab\n",
            "abcing\n",
            "stringly\n"
          ]
        }
      ]
    },
    {
      "cell_type": "markdown",
      "source": [
        "7.Write a Python program to find the first appearance of the substrings 'not' and 'poor' in a given string. If 'not' follows 'poor', replace the whole 'not'...'poor' substring with 'good'. Return the resulting string. \n",
        "\n",
        "Sample String : 'The lyrics is not that poor!'\n",
        "\n",
        "'The lyrics is poor!'\n",
        "\n",
        "Expected Result : 'The lyrics is good!'\n",
        "\n",
        "'The lyrics is poor!'"
      ],
      "metadata": {
        "id": "FaZ1TKQOFvg4"
      }
    },
    {
      "cell_type": "code",
      "source": [
        "def not_poor(str1):\n",
        "  snot = str1.find('not')\n",
        "  spoor = str1.find('poor')\n",
        "  \n",
        "\n",
        "  if spoor > snot and snot>0 and spoor>0:\n",
        "    str1 = str1.replace(str1[snot:(spoor+4)], 'good')\n",
        "    return str1\n",
        "  else:\n",
        "    return str1\n",
        "print(not_poor('The lyrics is not that poor!'))\n",
        "print(not_poor('The lyrics is poor!'))\n"
      ],
      "metadata": {
        "colab": {
          "base_uri": "https://localhost:8080/"
        },
        "id": "yWP_lkm2-Hff",
        "outputId": "7e33ceef-d589-48ec-9fd3-00d274153fa7"
      },
      "execution_count": null,
      "outputs": [
        {
          "output_type": "stream",
          "name": "stdout",
          "text": [
            "The lyrics is good!\n",
            "The lyrics is poor!\n"
          ]
        }
      ]
    }
  ]
}