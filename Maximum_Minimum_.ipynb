{
  "nbformat": 4,
  "nbformat_minor": 0,
  "metadata": {
    "colab": {
      "provenance": [],
      "authorship_tag": "ABX9TyPakxB3t/Fy97hq8hRJppGc",
      "include_colab_link": true
    },
    "kernelspec": {
      "name": "python3",
      "display_name": "Python 3"
    },
    "language_info": {
      "name": "python"
    }
  },
  "cells": [
    {
      "cell_type": "markdown",
      "metadata": {
        "id": "view-in-github",
        "colab_type": "text"
      },
      "source": [
        "<a href=\"https://colab.research.google.com/github/Sambhaji6529/Python-Programs/blob/main/Maximum_Minimum_.ipynb\" target=\"_parent\"><img src=\"https://colab.research.google.com/assets/colab-badge.svg\" alt=\"Open In Colab\"/></a>"
      ]
    },
    {
      "cell_type": "markdown",
      "source": [
        "**1. Write the program for Maximum Of Three Numbers**"
      ],
      "metadata": {
        "id": "620ERlo4B8U1"
      }
    },
    {
      "cell_type": "code",
      "execution_count": null,
      "metadata": {
        "colab": {
          "base_uri": "https://localhost:8080/"
        },
        "id": "Gft3HbZhBXcG",
        "outputId": "2f5e467f-668d-4ecf-963b-44de1daaadd8"
      },
      "outputs": [
        {
          "output_type": "stream",
          "name": "stdout",
          "text": [
            "Enter First NUmber:15\n",
            "Enter Second Number:25\n",
            "Enter Third Number:35\n",
            "Maximum value: 35\n"
          ]
        }
      ],
      "source": [
        "a=int(input(\"Enter First NUmber:\"))\n",
        "b=int(input(\"Enter Second Number:\"))\n",
        "c=int(input(\"Enter Third Number:\"))\n",
        "maxi=a if a>b and  a>c else b if b>c else c \n",
        "print(\"Maximum value:\" , maxi)"
      ]
    },
    {
      "cell_type": "markdown",
      "source": [
        "**2. Write the program for Minimum Of Three Numbers**\n"
      ],
      "metadata": {
        "id": "AqMHyj06EhWV"
      }
    },
    {
      "cell_type": "code",
      "source": [
        "a=int(input(\"Enter First Number:\"))\n",
        "b=int(input(\"Enter Second Number:\"))\n",
        "c=int(input(\"Enter Third Numbers:\"))\n",
        "mini=a if a<b and a<c else b if b<c else c\n",
        "print(\"Minimum value:\", mini)"
      ],
      "metadata": {
        "colab": {
          "base_uri": "https://localhost:8080/"
        },
        "id": "eeIzU56wEzHb",
        "outputId": "2e94b386-a5f8-4e92-ff57-958aab3d768f"
      },
      "execution_count": null,
      "outputs": [
        {
          "output_type": "stream",
          "name": "stdout",
          "text": [
            "Enter First Number:10\n",
            "Enter Second Number:35\n",
            "Enter Third Numbers:40\n",
            "Minimum value: 10\n"
          ]
        }
      ]
    },
    {
      "cell_type": "code",
      "source": [
        "string=input((\"Enter a letter:\"))  \n",
        "if(string==string[::-1]):  \n",
        "      print(\"The letter is a palindrome\")  \n",
        "else:  \n",
        "      print(\"The letter is not a palindrome\")"
      ],
      "metadata": {
        "colab": {
          "base_uri": "https://localhost:8080/"
        },
        "id": "q03VbtVlseiW",
        "outputId": "a9e55369-56b6-4919-d0a5-7d4694ae2d8b"
      },
      "execution_count": null,
      "outputs": [
        {
          "output_type": "stream",
          "name": "stdout",
          "text": [
            "Enter a letter:javapoinyt\n",
            "The letter is not a palindrome\n"
          ]
        }
      ]
    }
  ]
}