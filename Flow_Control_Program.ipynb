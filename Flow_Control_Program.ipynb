{
  "nbformat": 4,
  "nbformat_minor": 0,
  "metadata": {
    "colab": {
      "provenance": [],
      "authorship_tag": "ABX9TyPwfJqCSnaS+FSXYnavvNUV",
      "include_colab_link": true
    },
    "kernelspec": {
      "name": "python3",
      "display_name": "Python 3"
    },
    "language_info": {
      "name": "python"
    }
  },
  "cells": [
    {
      "cell_type": "markdown",
      "metadata": {
        "id": "view-in-github",
        "colab_type": "text"
      },
      "source": [
        "<a href=\"https://colab.research.google.com/github/Sambhaji6529/Python-Programs/blob/main/Flow_Control_Program.ipynb\" target=\"_parent\"><img src=\"https://colab.research.google.com/assets/colab-badge.svg\" alt=\"Open In Colab\"/></a>"
      ]
    },
    {
      "cell_type": "markdown",
      "source": [
        "if Conditional "
      ],
      "metadata": {
        "id": "baxfgBvuX55d"
      }
    },
    {
      "cell_type": "code",
      "execution_count": null,
      "metadata": {
        "colab": {
          "base_uri": "https://localhost:8080/"
        },
        "id": "KntMKwU_PbrO",
        "outputId": "75be6642-52e2-42f7-f2d6-f4a60dac56c1"
      },
      "outputs": [
        {
          "output_type": "stream",
          "name": "stdout",
          "text": [
            "Enter Name:prasad\n",
            "Please Validate Name\n"
          ]
        }
      ],
      "source": [
        "name=input(\"Enter Name:\")\n",
        "if name==\"Sambhaji\":\n",
        "   print(\"Hello Sambhaji Good Morning\")\n",
        "   print(\"Howareyou!!!\")\n",
        "else:\n",
        "    print(\"Please Validate Name\")\n"
      ]
    },
    {
      "cell_type": "markdown",
      "source": [
        "Write a program to find Biggest of given 2 numbers from the Commad Prompt?"
      ],
      "metadata": {
        "id": "IObvr47hYWL4"
      }
    },
    {
      "cell_type": "code",
      "source": [
        "n1=int(input(\"Enter First Number:\"))\n",
        "n2=int(input(\"Enter Second Number:\"))\n",
        "if n1>n2:\n",
        "   print(\"Biggest Number is:\",n1)\n",
        "else:\n",
        "    print(\"Biggest NUmber is:\",n2)"
      ],
      "metadata": {
        "colab": {
          "base_uri": "https://localhost:8080/"
        },
        "id": "H3MkX22mYii4",
        "outputId": "07805419-8b06-44e0-a3fb-18b45c87c71b"
      },
      "execution_count": null,
      "outputs": [
        {
          "output_type": "stream",
          "name": "stdout",
          "text": [
            "Enter First Number:20\n",
            "Enter Second Number:51\n",
            "Biggest NUmber is: 51\n"
          ]
        }
      ]
    },
    {
      "cell_type": "markdown",
      "source": [
        "**1) Write a Program to find Biggest of given 3 Numbers from the Command Prompt?**"
      ],
      "metadata": {
        "id": "tsg_bBfcZKHc"
      }
    },
    {
      "cell_type": "code",
      "source": [
        "n1=int(input(\"Enter First Number:\"))\n",
        "n2=int(input(\"Enter Second number:\"))\n",
        "n3=int(input(\"Ennter Third Number:\"))\n",
        "if n1>n2 and  n1>n3:  \n",
        "  print(\"Biggest Number is:\",n1)\n",
        "elif n2>n3:\n",
        "  print(\"Biggest Number is:\",n2)\n",
        "else:\n",
        "  print(\"Biggest NUmber is:\",n3)\n",
        " "
      ],
      "metadata": {
        "colab": {
          "base_uri": "https://localhost:8080/"
        },
        "id": "whdig0SsZRQt",
        "outputId": "e3ee3775-2833-4c72-9d27-bde5e3e38976"
      },
      "execution_count": null,
      "outputs": [
        {
          "output_type": "stream",
          "name": "stdout",
          "text": [
            "Enter First Number:25\n",
            "Enter Second number:25\n",
            "Ennter Third Number:2\n",
            "Biggest Number is: 25\n"
          ]
        }
      ]
    },
    {
      "cell_type": "markdown",
      "source": [
        "**2) Write a program to find smallest of given 2 numbers?**"
      ],
      "metadata": {
        "id": "HAWuYWGL8wtU"
      }
    },
    {
      "cell_type": "code",
      "source": [
        "n1=int(input(\"Enter First Number:\"))\n",
        "n2=int(input(\"Enter Second Number:\"))\n",
        "if  n1<n2:\n",
        "  print(\"Smallest Number is:\",n1)\n",
        "else:\n",
        "  print(\"Smallest Number is:\",n2)"
      ],
      "metadata": {
        "colab": {
          "base_uri": "https://localhost:8080/"
        },
        "id": "V-29Ezvv88_I",
        "outputId": "2de4645d-cad4-40e4-886f-01a18ffeb2be"
      },
      "execution_count": null,
      "outputs": [
        {
          "output_type": "stream",
          "name": "stdout",
          "text": [
            "Enter First Number:15\n",
            "Enter Second Number:20\n",
            "Smallest Number is: 15\n"
          ]
        }
      ]
    },
    {
      "cell_type": "markdown",
      "source": [
        "**3) Write a program to find smallest of given 3 numbers?**"
      ],
      "metadata": {
        "id": "R9UXEqjP9zEH"
      }
    },
    {
      "cell_type": "code",
      "source": [
        "n1=int(input(\"Enter First NUmber:\"))\n",
        "n2=int(input(\"Enter Second Number:\"))\n",
        "n3=int(input(\"Enter Third Number:\"))\n",
        "if n1<n2 and n1<n3:\n",
        "  print(\"Smallest Number is:\",n1)\n",
        "elif n2<n3:\n",
        "  print(\"Smallest Number is:\",n2)\n",
        "else:\n",
        "  print(\"Smallest Number is:\",n3)"
      ],
      "metadata": {
        "colab": {
          "base_uri": "https://localhost:8080/"
        },
        "id": "si9wEgSN92YF",
        "outputId": "38ea4769-8596-46c6-e124-f4f66f097c57"
      },
      "execution_count": null,
      "outputs": [
        {
          "output_type": "stream",
          "name": "stdout",
          "text": [
            "Enter First NUmber:10\n",
            "Enter Second Number:15\n",
            "Enter Third Number:20\n",
            "Smallest Number is: 10\n"
          ]
        }
      ]
    },
    {
      "cell_type": "markdown",
      "source": [
        "**4) Write a program to check whether the given number is even or odd?**"
      ],
      "metadata": {
        "id": "km_crMam_HSB"
      }
    },
    {
      "cell_type": "code",
      "source": [
        "x=int(input(\"Enter The Number:\"))\n",
        "if x%2==0:\n",
        " print(x,\"Number is Even\")\n",
        "else:\n",
        "  print(x,\"Number is odd\")"
      ],
      "metadata": {
        "colab": {
          "base_uri": "https://localhost:8080/"
        },
        "id": "T0cuC7b0_MSg",
        "outputId": "b79da777-6c12-4b2c-ff78-4359c0942c6a"
      },
      "execution_count": null,
      "outputs": [
        {
          "output_type": "stream",
          "name": "stdout",
          "text": [
            "Enter The Number:1\n",
            "1 Number is odd\n"
          ]
        }
      ]
    },
    {
      "cell_type": "markdown",
      "source": [
        "**5) Write a Program to dispaly *'s in Right Angled Triangled Form**"
      ],
      "metadata": {
        "id": "yNBuNEAtD1J0"
      }
    },
    {
      "cell_type": "code",
      "source": [
        "n = int(input(\"Enter The NUmber of rows:\"))\n",
        "for x in range(1,n+1):\n",
        "  print(\"* \" * x)"
      ],
      "metadata": {
        "colab": {
          "base_uri": "https://localhost:8080/"
        },
        "id": "VbLg9Py9D4HX",
        "outputId": "8f0cc15a-1ee0-47da-91ee-cfbb11a8f9ef"
      },
      "execution_count": null,
      "outputs": [
        {
          "output_type": "stream",
          "name": "stdout",
          "text": [
            "Enter The NUmber of rows:5\n",
            "* \n",
            "* * \n",
            "* * * \n",
            "* * * * \n",
            "* * * * * \n"
          ]
        }
      ]
    }
  ]
}